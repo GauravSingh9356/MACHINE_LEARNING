{
 "cells": [
  {
   "cell_type": "code",
   "execution_count": 1,
   "metadata": {},
   "outputs": [],
   "source": [
    "import numpy as np\n",
    "import pandas as pd\n",
    "import tensorflow as tf"
   ]
  },
  {
   "cell_type": "code",
   "execution_count": 2,
   "metadata": {},
   "outputs": [
    {
     "data": {
      "text/plain": [
       "'2.0.0'"
      ]
     },
     "execution_count": 2,
     "metadata": {},
     "output_type": "execute_result"
    }
   ],
   "source": [
    "tf.__version__"
   ]
  },
  {
   "cell_type": "code",
   "execution_count": 3,
   "metadata": {},
   "outputs": [],
   "source": [
    "dataset = pd.read_csv(\"Churn_Modelling.csv\")\n",
    "X = dataset.iloc[:,3:-1].values\n",
    "y = dataset.iloc[:,-1].values"
   ]
  },
  {
   "cell_type": "code",
   "execution_count": 4,
   "metadata": {},
   "outputs": [
    {
     "data": {
      "text/plain": [
       "array([[619, 'France', 'Female', ..., 1, 1, 101348.88],\n",
       "       [608, 'Spain', 'Female', ..., 0, 1, 112542.58],\n",
       "       [502, 'France', 'Female', ..., 1, 0, 113931.57],\n",
       "       ...,\n",
       "       [709, 'France', 'Female', ..., 0, 1, 42085.58],\n",
       "       [772, 'Germany', 'Male', ..., 1, 0, 92888.52],\n",
       "       [792, 'France', 'Female', ..., 1, 0, 38190.78]], dtype=object)"
      ]
     },
     "execution_count": 4,
     "metadata": {},
     "output_type": "execute_result"
    }
   ],
   "source": [
    "X"
   ]
  },
  {
   "cell_type": "code",
   "execution_count": 5,
   "metadata": {},
   "outputs": [
    {
     "data": {
      "text/plain": [
       "array([1, 0, 1, ..., 1, 1, 0], dtype=int64)"
      ]
     },
     "execution_count": 5,
     "metadata": {},
     "output_type": "execute_result"
    }
   ],
   "source": [
    "y"
   ]
  },
  {
   "cell_type": "code",
   "execution_count": 6,
   "metadata": {},
   "outputs": [],
   "source": [
    "from sklearn.preprocessing import LabelEncoder\n",
    "le = LabelEncoder()\n",
    "X[:,2] = le.fit_transform(X[:,2])"
   ]
  },
  {
   "cell_type": "code",
   "execution_count": 7,
   "metadata": {},
   "outputs": [
    {
     "data": {
      "text/plain": [
       "(10000, 10)"
      ]
     },
     "execution_count": 7,
     "metadata": {},
     "output_type": "execute_result"
    }
   ],
   "source": [
    "X.shape"
   ]
  },
  {
   "cell_type": "code",
   "execution_count": 8,
   "metadata": {},
   "outputs": [],
   "source": [
    "from sklearn.compose import ColumnTransformer\n",
    "from sklearn.preprocessing import OneHotEncoder\n",
    "ct =ColumnTransformer(transformers=[('encoder', OneHotEncoder(), [1])], remainder=\"passthrough\")\n",
    "X = ct.fit_transform(X)"
   ]
  },
  {
   "cell_type": "code",
   "execution_count": 9,
   "metadata": {},
   "outputs": [
    {
     "data": {
      "text/plain": [
       "array([[1.0, 0.0, 0.0, ..., 1, 1, 101348.88],\n",
       "       [0.0, 0.0, 1.0, ..., 0, 1, 112542.58],\n",
       "       [1.0, 0.0, 0.0, ..., 1, 0, 113931.57],\n",
       "       ...,\n",
       "       [1.0, 0.0, 0.0, ..., 0, 1, 42085.58],\n",
       "       [0.0, 1.0, 0.0, ..., 1, 0, 92888.52],\n",
       "       [1.0, 0.0, 0.0, ..., 1, 0, 38190.78]], dtype=object)"
      ]
     },
     "execution_count": 9,
     "metadata": {},
     "output_type": "execute_result"
    }
   ],
   "source": [
    "X"
   ]
  },
  {
   "cell_type": "code",
   "execution_count": 10,
   "metadata": {},
   "outputs": [
    {
     "data": {
      "text/plain": [
       "(10000, 12)"
      ]
     },
     "execution_count": 10,
     "metadata": {},
     "output_type": "execute_result"
    }
   ],
   "source": [
    "X.shape"
   ]
  },
  {
   "cell_type": "code",
   "execution_count": 11,
   "metadata": {},
   "outputs": [],
   "source": [
    "from sklearn.model_selection import train_test_split\n",
    "X_train,X_test,y_train,y_test = train_test_split(X,y, test_size=0.2)"
   ]
  },
  {
   "cell_type": "code",
   "execution_count": 12,
   "metadata": {},
   "outputs": [],
   "source": [
    "from sklearn.preprocessing import StandardScaler\n",
    "sc = StandardScaler()\n",
    "X_train = sc.fit_transform(X_train)\n",
    "X_test = sc.transform(X_test)"
   ]
  },
  {
   "cell_type": "code",
   "execution_count": 13,
   "metadata": {},
   "outputs": [],
   "source": [
    "ann = tf.keras.models.Sequential()\n",
    "ann.add(tf.keras.layers.Dense(units=6, activation='relu'))\n",
    "ann.add(tf.keras.layers.Dense(units=6, activation='relu'))"
   ]
  },
  {
   "cell_type": "code",
   "execution_count": 14,
   "metadata": {},
   "outputs": [],
   "source": [
    "ann.add(tf.keras.layers.Dense(units=1, activation='sigmoid'))"
   ]
  },
  {
   "cell_type": "code",
   "execution_count": 15,
   "metadata": {},
   "outputs": [],
   "source": [
    "ann.compile(optimizer='adam' , loss='binary_crossentropy' , metrics=['accuracy'])"
   ]
  },
  {
   "cell_type": "code",
   "execution_count": 16,
   "metadata": {},
   "outputs": [
    {
     "name": "stdout",
     "output_type": "stream",
     "text": [
      "Train on 8000 samples\n",
      "Epoch 1/25\n",
      "8000/8000 [==============================] - 1s 112us/sample - loss: 0.5340 - accuracy: 0.7962\n",
      "Epoch 2/25\n",
      "8000/8000 [==============================] - ETA: 0s - loss: 0.4795 - accuracy: 0.79 - 0s 30us/sample - loss: 0.4815 - accuracy: 0.7962\n",
      "Epoch 3/25\n",
      "8000/8000 [==============================] - ETA: 0s - loss: 0.4616 - accuracy: 0.79 - 0s 30us/sample - loss: 0.4588 - accuracy: 0.7962\n",
      "Epoch 4/25\n",
      "8000/8000 [==============================] - 0s 30us/sample - loss: 0.4447 - accuracy: 0.7962\n",
      "Epoch 5/25\n",
      "8000/8000 [==============================] - 0s 29us/sample - loss: 0.4359 - accuracy: 0.7962\n",
      "Epoch 6/25\n",
      "8000/8000 [==============================] - 0s 28us/sample - loss: 0.4302 - accuracy: 0.7962\n",
      "Epoch 7/25\n",
      "8000/8000 [==============================] - 0s 29us/sample - loss: 0.4257 - accuracy: 0.8005\n",
      "Epoch 8/25\n",
      "8000/8000 [==============================] - 0s 30us/sample - loss: 0.4221 - accuracy: 0.8161\n",
      "Epoch 9/25\n",
      "8000/8000 [==============================] - 0s 30us/sample - loss: 0.4189 - accuracy: 0.8195s - loss: 0.4253 - accuracy:  - ETA: 0s - loss: 0.4234 - accuracy: 0.81\n",
      "Epoch 10/25\n",
      "8000/8000 [==============================] - 0s 29us/sample - loss: 0.4169 - accuracy: 0.8232\n",
      "Epoch 11/25\n",
      "8000/8000 [==============================] - 0s 29us/sample - loss: 0.4148 - accuracy: 0.8260\n",
      "Epoch 12/25\n",
      "8000/8000 [==============================] - 0s 30us/sample - loss: 0.4133 - accuracy: 0.8295\n",
      "Epoch 13/25\n",
      "8000/8000 [==============================] - 0s 29us/sample - loss: 0.4120 - accuracy: 0.8306s - loss: 0.4074 - accuracy: \n",
      "Epoch 14/25\n",
      "8000/8000 [==============================] - 0s 29us/sample - loss: 0.4105 - accuracy: 0.8316\n",
      "Epoch 15/25\n",
      "8000/8000 [==============================] - 0s 29us/sample - loss: 0.4089 - accuracy: 0.8328\n",
      "Epoch 16/25\n",
      "8000/8000 [==============================] - 0s 28us/sample - loss: 0.4061 - accuracy: 0.8344\n",
      "Epoch 17/25\n",
      "8000/8000 [==============================] - 0s 28us/sample - loss: 0.4023 - accuracy: 0.8371\n",
      "Epoch 18/25\n",
      "8000/8000 [==============================] - 0s 29us/sample - loss: 0.3964 - accuracy: 0.8394\n",
      "Epoch 19/25\n",
      "8000/8000 [==============================] - 0s 29us/sample - loss: 0.3881 - accuracy: 0.8422\n",
      "Epoch 20/25\n",
      "8000/8000 [==============================] - 0s 31us/sample - loss: 0.3816 - accuracy: 0.8435\n",
      "Epoch 21/25\n",
      "8000/8000 [==============================] - 0s 29us/sample - loss: 0.3765 - accuracy: 0.8465s - loss: 0.3765 - accuracy\n",
      "Epoch 22/25\n",
      "8000/8000 [==============================] - 0s 30us/sample - loss: 0.3723 - accuracy: 0.8476s - loss: 0.3719 - accuracy: 0.\n",
      "Epoch 23/25\n",
      "8000/8000 [==============================] - 0s 31us/sample - loss: 0.3694 - accuracy: 0.8489s - loss: 0.3710 - accuracy: 0.\n",
      "Epoch 24/25\n",
      "8000/8000 [==============================] - 0s 30us/sample - loss: 0.3666 - accuracy: 0.8522s - loss: 0.3695 - accuracy: \n",
      "Epoch 25/25\n",
      "8000/8000 [==============================] - 0s 28us/sample - loss: 0.3649 - accuracy: 0.8531\n"
     ]
    },
    {
     "data": {
      "text/plain": [
       "<tensorflow.python.keras.callbacks.History at 0x2c5735e5a08>"
      ]
     },
     "execution_count": 16,
     "metadata": {},
     "output_type": "execute_result"
    }
   ],
   "source": [
    "ann.fit(X_train, y_train, batch_size=32, epochs=25)"
   ]
  },
  {
   "cell_type": "code",
   "execution_count": 17,
   "metadata": {},
   "outputs": [
    {
     "name": "stdout",
     "output_type": "stream",
     "text": [
      "[[False]]\n"
     ]
    }
   ],
   "source": [
    "print(ann.predict(sc.transform([[1,0,0,600,1,40,3,60000,2,1,1,50000]]))>0.5)"
   ]
  },
  {
   "cell_type": "code",
   "execution_count": 18,
   "metadata": {},
   "outputs": [
    {
     "data": {
      "text/plain": [
       "array([[0.],\n",
       "       [0.],\n",
       "       [0.],\n",
       "       ...,\n",
       "       [0.],\n",
       "       [0.],\n",
       "       [0.]], dtype=float32)"
      ]
     },
     "execution_count": 18,
     "metadata": {},
     "output_type": "execute_result"
    }
   ],
   "source": [
    "y_pred = ann.predict(X_test)\n",
    "for i in range(y_pred.shape[0]):\n",
    "    for j in range(y_pred.shape[1]):\n",
    "        if(y_pred[i][j]>0.5):\n",
    "            y_pred[i][j]=1\n",
    "        else:\n",
    "            y_pred[i][j]=0\n",
    "y_pred"
   ]
  },
  {
   "cell_type": "code",
   "execution_count": 19,
   "metadata": {},
   "outputs": [
    {
     "data": {
      "text/plain": [
       "array([[1545,   48],\n",
       "       [ 242,  165]], dtype=int64)"
      ]
     },
     "execution_count": 19,
     "metadata": {},
     "output_type": "execute_result"
    }
   ],
   "source": [
    "from sklearn.metrics import confusion_matrix\n",
    "confusion_matrix(y_test, y_pred)"
   ]
  },
  {
   "cell_type": "code",
   "execution_count": 20,
   "metadata": {},
   "outputs": [
    {
     "data": {
      "text/plain": [
       "0.855"
      ]
     },
     "execution_count": 20,
     "metadata": {},
     "output_type": "execute_result"
    }
   ],
   "source": [
    "from sklearn.metrics import accuracy_score\n",
    "accuracy_score(y_test, y_pred)"
   ]
  },
  {
   "cell_type": "code",
   "execution_count": null,
   "metadata": {},
   "outputs": [],
   "source": []
  }
 ],
 "metadata": {
  "kernelspec": {
   "display_name": "Python 3",
   "language": "python",
   "name": "python3"
  },
  "language_info": {
   "codemirror_mode": {
    "name": "ipython",
    "version": 3
   },
   "file_extension": ".py",
   "mimetype": "text/x-python",
   "name": "python",
   "nbconvert_exporter": "python",
   "pygments_lexer": "ipython3",
   "version": "3.7.6"
  }
 },
 "nbformat": 4,
 "nbformat_minor": 4
}
