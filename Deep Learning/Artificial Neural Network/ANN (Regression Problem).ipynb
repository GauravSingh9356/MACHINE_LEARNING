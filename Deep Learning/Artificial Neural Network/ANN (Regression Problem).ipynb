{
 "cells": [
  {
   "cell_type": "code",
   "execution_count": 1,
   "metadata": {},
   "outputs": [],
   "source": [
    "import numpy as np\n",
    "import pandas as  pd\n",
    "import tensorflow as tf"
   ]
  },
  {
   "cell_type": "code",
   "execution_count": 2,
   "metadata": {},
   "outputs": [
    {
     "data": {
      "text/html": [
       "<div>\n",
       "<style scoped>\n",
       "    .dataframe tbody tr th:only-of-type {\n",
       "        vertical-align: middle;\n",
       "    }\n",
       "\n",
       "    .dataframe tbody tr th {\n",
       "        vertical-align: top;\n",
       "    }\n",
       "\n",
       "    .dataframe thead th {\n",
       "        text-align: right;\n",
       "    }\n",
       "</style>\n",
       "<table border=\"1\" class=\"dataframe\">\n",
       "  <thead>\n",
       "    <tr style=\"text-align: right;\">\n",
       "      <th></th>\n",
       "      <th>AT</th>\n",
       "      <th>V</th>\n",
       "      <th>AP</th>\n",
       "      <th>RH</th>\n",
       "      <th>PE</th>\n",
       "    </tr>\n",
       "  </thead>\n",
       "  <tbody>\n",
       "    <tr>\n",
       "      <th>0</th>\n",
       "      <td>14.96</td>\n",
       "      <td>41.76</td>\n",
       "      <td>1024.07</td>\n",
       "      <td>73.17</td>\n",
       "      <td>463.26</td>\n",
       "    </tr>\n",
       "    <tr>\n",
       "      <th>1</th>\n",
       "      <td>25.18</td>\n",
       "      <td>62.96</td>\n",
       "      <td>1020.04</td>\n",
       "      <td>59.08</td>\n",
       "      <td>444.37</td>\n",
       "    </tr>\n",
       "    <tr>\n",
       "      <th>2</th>\n",
       "      <td>5.11</td>\n",
       "      <td>39.40</td>\n",
       "      <td>1012.16</td>\n",
       "      <td>92.14</td>\n",
       "      <td>488.56</td>\n",
       "    </tr>\n",
       "    <tr>\n",
       "      <th>3</th>\n",
       "      <td>20.86</td>\n",
       "      <td>57.32</td>\n",
       "      <td>1010.24</td>\n",
       "      <td>76.64</td>\n",
       "      <td>446.48</td>\n",
       "    </tr>\n",
       "    <tr>\n",
       "      <th>4</th>\n",
       "      <td>10.82</td>\n",
       "      <td>37.50</td>\n",
       "      <td>1009.23</td>\n",
       "      <td>96.62</td>\n",
       "      <td>473.90</td>\n",
       "    </tr>\n",
       "    <tr>\n",
       "      <th>...</th>\n",
       "      <td>...</td>\n",
       "      <td>...</td>\n",
       "      <td>...</td>\n",
       "      <td>...</td>\n",
       "      <td>...</td>\n",
       "    </tr>\n",
       "    <tr>\n",
       "      <th>9563</th>\n",
       "      <td>16.65</td>\n",
       "      <td>49.69</td>\n",
       "      <td>1014.01</td>\n",
       "      <td>91.00</td>\n",
       "      <td>460.03</td>\n",
       "    </tr>\n",
       "    <tr>\n",
       "      <th>9564</th>\n",
       "      <td>13.19</td>\n",
       "      <td>39.18</td>\n",
       "      <td>1023.67</td>\n",
       "      <td>66.78</td>\n",
       "      <td>469.62</td>\n",
       "    </tr>\n",
       "    <tr>\n",
       "      <th>9565</th>\n",
       "      <td>31.32</td>\n",
       "      <td>74.33</td>\n",
       "      <td>1012.92</td>\n",
       "      <td>36.48</td>\n",
       "      <td>429.57</td>\n",
       "    </tr>\n",
       "    <tr>\n",
       "      <th>9566</th>\n",
       "      <td>24.48</td>\n",
       "      <td>69.45</td>\n",
       "      <td>1013.86</td>\n",
       "      <td>62.39</td>\n",
       "      <td>435.74</td>\n",
       "    </tr>\n",
       "    <tr>\n",
       "      <th>9567</th>\n",
       "      <td>21.60</td>\n",
       "      <td>62.52</td>\n",
       "      <td>1017.23</td>\n",
       "      <td>67.87</td>\n",
       "      <td>453.28</td>\n",
       "    </tr>\n",
       "  </tbody>\n",
       "</table>\n",
       "<p>9568 rows × 5 columns</p>\n",
       "</div>"
      ],
      "text/plain": [
       "         AT      V       AP     RH      PE\n",
       "0     14.96  41.76  1024.07  73.17  463.26\n",
       "1     25.18  62.96  1020.04  59.08  444.37\n",
       "2      5.11  39.40  1012.16  92.14  488.56\n",
       "3     20.86  57.32  1010.24  76.64  446.48\n",
       "4     10.82  37.50  1009.23  96.62  473.90\n",
       "...     ...    ...      ...    ...     ...\n",
       "9563  16.65  49.69  1014.01  91.00  460.03\n",
       "9564  13.19  39.18  1023.67  66.78  469.62\n",
       "9565  31.32  74.33  1012.92  36.48  429.57\n",
       "9566  24.48  69.45  1013.86  62.39  435.74\n",
       "9567  21.60  62.52  1017.23  67.87  453.28\n",
       "\n",
       "[9568 rows x 5 columns]"
      ]
     },
     "execution_count": 2,
     "metadata": {},
     "output_type": "execute_result"
    }
   ],
   "source": [
    "dataset = pd.read_excel(\"Folds5x2_pp.xlsx\")\n",
    "dataset"
   ]
  },
  {
   "cell_type": "code",
   "execution_count": 3,
   "metadata": {},
   "outputs": [],
   "source": [
    "X = dataset.iloc[:,:-1].values\n",
    "y=dataset.iloc[:,-1].values"
   ]
  },
  {
   "cell_type": "code",
   "execution_count": 4,
   "metadata": {},
   "outputs": [
    {
     "data": {
      "text/plain": [
       "array([[  14.96,   41.76, 1024.07,   73.17],\n",
       "       [  25.18,   62.96, 1020.04,   59.08],\n",
       "       [   5.11,   39.4 , 1012.16,   92.14],\n",
       "       ...,\n",
       "       [  31.32,   74.33, 1012.92,   36.48],\n",
       "       [  24.48,   69.45, 1013.86,   62.39],\n",
       "       [  21.6 ,   62.52, 1017.23,   67.87]])"
      ]
     },
     "execution_count": 4,
     "metadata": {},
     "output_type": "execute_result"
    }
   ],
   "source": [
    "X\n"
   ]
  },
  {
   "cell_type": "code",
   "execution_count": 5,
   "metadata": {},
   "outputs": [
    {
     "data": {
      "text/plain": [
       "array([[463.26],\n",
       "       [444.37],\n",
       "       [488.56],\n",
       "       ...,\n",
       "       [429.57],\n",
       "       [435.74],\n",
       "       [453.28]])"
      ]
     },
     "execution_count": 5,
     "metadata": {},
     "output_type": "execute_result"
    }
   ],
   "source": [
    "y = y.reshape(len(y),1)\n",
    "y"
   ]
  },
  {
   "cell_type": "code",
   "execution_count": 6,
   "metadata": {},
   "outputs": [],
   "source": [
    "from sklearn.model_selection import train_test_split\n",
    "X_train,X_test,y_train,y_test = train_test_split(X,y,test_size=0.2,random_state=0)"
   ]
  },
  {
   "cell_type": "code",
   "execution_count": 7,
   "metadata": {},
   "outputs": [],
   "source": [
    "from sklearn.preprocessing import StandardScaler\n",
    "sc_x = StandardScaler()\n",
    "sc_y = StandardScaler()\n",
    "X_train = sc_x.fit_transform(X_train)\n",
    "X_test = sc_x.transform(X_test)\n",
    "y_train = sc_y.fit_transform(y_train)\n"
   ]
  },
  {
   "cell_type": "code",
   "execution_count": 8,
   "metadata": {},
   "outputs": [],
   "source": [
    "ann = tf.keras.models.Sequential()\n",
    "ann.add(tf.keras.layers.Dense(units=6, activation=\"relu\"))\n",
    "ann.add(tf.keras.layers.Dense(units=6, activation=\"relu\"))"
   ]
  },
  {
   "cell_type": "code",
   "execution_count": 9,
   "metadata": {},
   "outputs": [],
   "source": [
    "ann.add(tf.keras.layers.Dense(units=1))"
   ]
  },
  {
   "cell_type": "code",
   "execution_count": 17,
   "metadata": {},
   "outputs": [],
   "source": [
    "ann.compile(optimizer=\"adam\", loss=\"mean_squared_error\")"
   ]
  },
  {
   "cell_type": "code",
   "execution_count": 18,
   "metadata": {},
   "outputs": [
    {
     "name": "stdout",
     "output_type": "stream",
     "text": [
      "Train on 7654 samples\n",
      "Epoch 1/70\n",
      "7654/7654 [==============================] - 1s 148us/sample - loss: 0.0618\n",
      "Epoch 2/70\n",
      "7654/7654 [==============================] - 1s 78us/sample - loss: 0.0618\n",
      "Epoch 3/70\n",
      "7654/7654 [==============================] - 1s 91us/sample - loss: 0.0616\n",
      "Epoch 4/70\n",
      "7654/7654 [==============================] - 1s 90us/sample - loss: 0.0614\n",
      "Epoch 5/70\n",
      "7654/7654 [==============================] - 1s 107us/sample - loss: 0.0616\n",
      "Epoch 6/70\n",
      "7654/7654 [==============================] - 1s 89us/sample - loss: 0.0616\n",
      "Epoch 7/70\n",
      "7654/7654 [==============================] - 1s 110us/sample - loss: 0.0616\n",
      "Epoch 8/70\n",
      "7654/7654 [==============================] - 1s 111us/sample - loss: 0.0615\n",
      "Epoch 9/70\n",
      "7654/7654 [==============================] - 1s 109us/sample - loss: 0.0614\n",
      "Epoch 10/70\n",
      "7654/7654 [==============================] - 1s 108us/sample - loss: 0.0615\n",
      "Epoch 11/70\n",
      "7654/7654 [==============================] - 1s 86us/sample - loss: 0.0613\n",
      "Epoch 12/70\n",
      "7654/7654 [==============================] - 1s 82us/sample - loss: 0.0613\n",
      "Epoch 13/70\n",
      "7654/7654 [==============================] - 1s 109us/sample - loss: 0.0615\n",
      "Epoch 14/70\n",
      "7654/7654 [==============================] - 1s 113us/sample - loss: 0.0614\n",
      "Epoch 15/70\n",
      "7654/7654 [==============================] - 1s 109us/sample - loss: 0.0611\n",
      "Epoch 16/70\n",
      "7654/7654 [==============================] - 1s 110us/sample - loss: 0.0612\n",
      "Epoch 17/70\n",
      "7654/7654 [==============================] - 1s 127us/sample - loss: 0.0612\n",
      "Epoch 18/70\n",
      "7654/7654 [==============================] - 1s 187us/sample - loss: 0.0612\n",
      "Epoch 19/70\n",
      "7654/7654 [==============================] - 1s 183us/sample - loss: 0.0610\n",
      "Epoch 20/70\n",
      "7654/7654 [==============================] - 1s 168us/sample - loss: 0.0612\n",
      "Epoch 21/70\n",
      "7654/7654 [==============================] - 1s 166us/sample - loss: 0.0610\n",
      "Epoch 22/70\n",
      "7654/7654 [==============================] - 1s 166us/sample - loss: 0.0613\n",
      "Epoch 23/70\n",
      "7654/7654 [==============================] - 1s 166us/sample - loss: 0.0611\n",
      "Epoch 24/70\n",
      "7654/7654 [==============================] - 1s 171us/sample - loss: 0.0610\n",
      "Epoch 25/70\n",
      "7654/7654 [==============================] - 1s 177us/sample - loss: 0.0609\n",
      "Epoch 26/70\n",
      "7654/7654 [==============================] - 1s 170us/sample - loss: 0.0610\n",
      "Epoch 27/70\n",
      "7654/7654 [==============================] - 1s 110us/sample - loss: 0.0611\n",
      "Epoch 28/70\n",
      "7654/7654 [==============================] - 0s 62us/sample - loss: 0.0609\n",
      "Epoch 29/70\n",
      "7654/7654 [==============================] - 1s 67us/sample - loss: 0.0609\n",
      "Epoch 30/70\n",
      "7654/7654 [==============================] - 1s 99us/sample - loss: 0.0606\n",
      "Epoch 31/70\n",
      "7654/7654 [==============================] - 1s 91us/sample - loss: 0.0605\n",
      "Epoch 32/70\n",
      "7654/7654 [==============================] - 1s 87us/sample - loss: 0.0604\n",
      "Epoch 33/70\n",
      "7654/7654 [==============================] - 1s 125us/sample - loss: 0.0604\n",
      "Epoch 34/70\n",
      "7654/7654 [==============================] - 1s 168us/sample - loss: 0.0604\n",
      "Epoch 35/70\n",
      "7654/7654 [==============================] - 1s 189us/sample - loss: 0.0605\n",
      "Epoch 36/70\n",
      "7654/7654 [==============================] - 1s 187us/sample - loss: 0.0603\n",
      "Epoch 37/70\n",
      "7654/7654 [==============================] - 1s 181us/sample - loss: 0.0602\n",
      "Epoch 38/70\n",
      "7654/7654 [==============================] - 1s 174us/sample - loss: 0.0603\n",
      "Epoch 39/70\n",
      "7654/7654 [==============================] - 1s 174us/sample - loss: 0.0602\n",
      "Epoch 40/70\n",
      "7654/7654 [==============================] - 1s 175us/sample - loss: 0.0602\n",
      "Epoch 41/70\n",
      "7654/7654 [==============================] - 1s 174us/sample - loss: 0.0603\n",
      "Epoch 42/70\n",
      "7654/7654 [==============================] - 1s 175us/sample - loss: 0.0602\n",
      "Epoch 43/70\n",
      "7654/7654 [==============================] - 1s 178us/sample - loss: 0.0603\n",
      "Epoch 44/70\n",
      "7654/7654 [==============================] - 1s 159us/sample - loss: 0.0603\n",
      "Epoch 45/70\n",
      "7654/7654 [==============================] - 1s 98us/sample - loss: 0.0599\n",
      "Epoch 46/70\n",
      "7654/7654 [==============================] - 1s 113us/sample - loss: 0.0601\n",
      "Epoch 47/70\n",
      "7654/7654 [==============================] - 1s 117us/sample - loss: 0.0601\n",
      "Epoch 48/70\n",
      "7654/7654 [==============================] - 1s 117us/sample - loss: 0.0597\n",
      "Epoch 49/70\n",
      "7654/7654 [==============================] - 1s 125us/sample - loss: 0.0602\n",
      "Epoch 50/70\n",
      "7654/7654 [==============================] - 1s 147us/sample - loss: 0.0599\n",
      "Epoch 51/70\n",
      "7654/7654 [==============================] - 1s 143us/sample - loss: 0.0600\n",
      "Epoch 52/70\n",
      "7654/7654 [==============================] - 1s 164us/sample - loss: 0.0599\n",
      "Epoch 53/70\n",
      "7654/7654 [==============================] - 1s 195us/sample - loss: 0.0600\n",
      "Epoch 54/70\n",
      "7654/7654 [==============================] - 1s 118us/sample - loss: 0.0598\n",
      "Epoch 55/70\n",
      "7654/7654 [==============================] - 1s 145us/sample - loss: 0.0599\n",
      "Epoch 56/70\n",
      "7654/7654 [==============================] - 1s 176us/sample - loss: 0.0598\n",
      "Epoch 57/70\n",
      "7654/7654 [==============================] - 1s 140us/sample - loss: 0.0597\n",
      "Epoch 58/70\n",
      "7654/7654 [==============================] - 1s 86us/sample - loss: 0.05980s - loss: \n",
      "Epoch 59/70\n",
      "7654/7654 [==============================] - 1s 109us/sample - loss: 0.0597\n",
      "Epoch 60/70\n",
      "7654/7654 [==============================] - 1s 109us/sample - loss: 0.0601\n",
      "Epoch 61/70\n",
      "7654/7654 [==============================] - 1s 110us/sample - loss: 0.0597\n",
      "Epoch 62/70\n",
      "7654/7654 [==============================] - 1s 109us/sample - loss: 0.0598\n",
      "Epoch 63/70\n",
      "7654/7654 [==============================] - 1s 109us/sample - loss: 0.0598\n",
      "Epoch 64/70\n",
      "7654/7654 [==============================] - 1s 109us/sample - loss: 0.0597\n",
      "Epoch 65/70\n",
      "7654/7654 [==============================] - 1s 109us/sample - loss: 0.0597\n",
      "Epoch 66/70\n",
      "7654/7654 [==============================] - 1s 110us/sample - loss: 0.0596\n",
      "Epoch 67/70\n",
      "7654/7654 [==============================] - 1s 110us/sample - loss: 0.0596\n",
      "Epoch 68/70\n",
      "7654/7654 [==============================] - 1s 93us/sample - loss: 0.0595\n",
      "Epoch 69/70\n",
      "7654/7654 [==============================] - 1s 67us/sample - loss: 0.0597\n",
      "Epoch 70/70\n",
      "7654/7654 [==============================] - 1s 104us/sample - loss: 0.0597\n"
     ]
    },
    {
     "data": {
      "text/plain": [
       "<tensorflow.python.keras.callbacks.History at 0x27eac1b3a08>"
      ]
     },
     "execution_count": 18,
     "metadata": {},
     "output_type": "execute_result"
    }
   ],
   "source": [
    "ann.fit(X_train, y_train, batch_size=20, epochs=70)"
   ]
  },
  {
   "cell_type": "code",
   "execution_count": 19,
   "metadata": {},
   "outputs": [],
   "source": [
    "y_test=y_test.reshape(1,len(y_test))"
   ]
  },
  {
   "cell_type": "code",
   "execution_count": 20,
   "metadata": {},
   "outputs": [],
   "source": [
    "y_test=y_test.ravel()"
   ]
  },
  {
   "cell_type": "code",
   "execution_count": 21,
   "metadata": {},
   "outputs": [
    {
     "data": {
      "text/plain": [
       "array([431.23, 460.01, 461.14, ..., 473.26, 438.  , 463.28])"
      ]
     },
     "execution_count": 21,
     "metadata": {},
     "output_type": "execute_result"
    }
   ],
   "source": [
    "y_test"
   ]
  },
  {
   "cell_type": "code",
   "execution_count": 22,
   "metadata": {},
   "outputs": [],
   "source": [
    "y_pred=sc_y.inverse_transform(ann.predict(X_test))"
   ]
  },
  {
   "cell_type": "code",
   "execution_count": 23,
   "metadata": {},
   "outputs": [
    {
     "data": {
      "text/plain": [
       "array([[432.12576294, 431.23      ],\n",
       "       [455.19747925, 460.01      ],\n",
       "       [460.17095947, 461.14      ],\n",
       "       ...,\n",
       "       [469.18432617, 473.26      ],\n",
       "       [438.8710022 , 438.        ],\n",
       "       [461.65341187, 463.28      ]])"
      ]
     },
     "execution_count": 23,
     "metadata": {},
     "output_type": "execute_result"
    }
   ],
   "source": [
    "np.concatenate((y_pred, y_test.reshape(len(y_test),1)), axis=1)"
   ]
  },
  {
   "cell_type": "code",
   "execution_count": 26,
   "metadata": {},
   "outputs": [
    {
     "data": {
      "text/plain": [
       "0.9452220612653696"
      ]
     },
     "execution_count": 26,
     "metadata": {},
     "output_type": "execute_result"
    }
   ],
   "source": [
    "from sklearn.metrics import r2_score\n",
    "r2_score(y_test, y_pred)"
   ]
  },
  {
   "cell_type": "code",
   "execution_count": null,
   "metadata": {},
   "outputs": [],
   "source": []
  }
 ],
 "metadata": {
  "kernelspec": {
   "display_name": "Python 3",
   "language": "python",
   "name": "python3"
  },
  "language_info": {
   "codemirror_mode": {
    "name": "ipython",
    "version": 3
   },
   "file_extension": ".py",
   "mimetype": "text/x-python",
   "name": "python",
   "nbconvert_exporter": "python",
   "pygments_lexer": "ipython3",
   "version": "3.7.6"
  }
 },
 "nbformat": 4,
 "nbformat_minor": 4
}
