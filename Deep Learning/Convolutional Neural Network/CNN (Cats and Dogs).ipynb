{
 "cells": [
  {
   "cell_type": "markdown",
   "metadata": {},
   "source": [
    "# CNN"
   ]
  },
  {
   "cell_type": "markdown",
   "metadata": {},
   "source": [
    "## Import Tensorflow  and ImageGenerator"
   ]
  },
  {
   "cell_type": "code",
   "execution_count": 1,
   "metadata": {},
   "outputs": [
    {
     "name": "stderr",
     "output_type": "stream",
     "text": [
      "Using TensorFlow backend.\n"
     ]
    }
   ],
   "source": [
    "import tensorflow as tf\n",
    "from keras.preprocessing.image import ImageDataGenerator\n"
   ]
  },
  {
   "cell_type": "code",
   "execution_count": 2,
   "metadata": {},
   "outputs": [
    {
     "data": {
      "text/plain": [
       "'2.0.0'"
      ]
     },
     "execution_count": 2,
     "metadata": {},
     "output_type": "execute_result"
    }
   ],
   "source": [
    "tf.__version__"
   ]
  },
  {
   "cell_type": "markdown",
   "metadata": {},
   "source": [
    "## Feature Scaling, Image Augmentation and import Dataset (Training Set)"
   ]
  },
  {
   "cell_type": "code",
   "execution_count": 3,
   "metadata": {},
   "outputs": [
    {
     "name": "stdout",
     "output_type": "stream",
     "text": [
      "Found 8000 images belonging to 2 classes.\n"
     ]
    }
   ],
   "source": [
    "train_datagen = ImageDataGenerator(\n",
    "rescale=1/255,\n",
    "shear_range=0.2,\n",
    "zoom_range=0.2,\n",
    "horizontal_flip=True)\n",
    "\n",
    "training_set = train_datagen.flow_from_directory(\n",
    "    'dataset/training_set',\n",
    "    target_size=(64,64),\n",
    "    batch_size=32,\n",
    "    class_mode='binary'\n",
    ")"
   ]
  },
  {
   "cell_type": "markdown",
   "metadata": {},
   "source": [
    "## Feature Scaling and import Dataset (Test Set)"
   ]
  },
  {
   "cell_type": "code",
   "execution_count": 4,
   "metadata": {},
   "outputs": [
    {
     "name": "stdout",
     "output_type": "stream",
     "text": [
      "Found 2000 images belonging to 2 classes.\n"
     ]
    }
   ],
   "source": [
    "test_datagen = ImageDataGenerator(rescale=1/255)\n",
    "test_set =  test_datagen.flow_from_directory(\n",
    "'dataset/test_set',\n",
    "target_size=(64,64),\n",
    "    batch_size=32,\n",
    "    class_mode='binary'\n",
    ")"
   ]
  },
  {
   "cell_type": "markdown",
   "metadata": {},
   "source": [
    "## Convolution"
   ]
  },
  {
   "cell_type": "code",
   "execution_count": 5,
   "metadata": {},
   "outputs": [],
   "source": [
    "cnn = tf.keras.models.Sequential()\n",
    "cnn.add(tf.keras.layers.Conv2D(filters=32, kernel_size=3, activation=\"relu\",input_shape=[64,64,3] ))"
   ]
  },
  {
   "cell_type": "markdown",
   "metadata": {},
   "source": [
    "## Pooling"
   ]
  },
  {
   "cell_type": "code",
   "execution_count": 6,
   "metadata": {},
   "outputs": [],
   "source": [
    "cnn.add(tf.keras.layers.MaxPool2D(pool_size = 2, strides=2))"
   ]
  },
  {
   "cell_type": "markdown",
   "metadata": {},
   "source": [
    "## Adding second Convolution Layer"
   ]
  },
  {
   "cell_type": "code",
   "execution_count": 7,
   "metadata": {},
   "outputs": [],
   "source": [
    "cnn.add(tf.keras.layers.Conv2D(filters=32, kernel_size=3, activation=\"relu\" ))\n",
    "cnn.add(tf.keras.layers.MaxPool2D(pool_size = 2, strides=2))"
   ]
  },
  {
   "cell_type": "markdown",
   "metadata": {},
   "source": [
    "## Flattening "
   ]
  },
  {
   "cell_type": "code",
   "execution_count": 8,
   "metadata": {},
   "outputs": [],
   "source": [
    "cnn.add(tf.keras.layers.Flatten())"
   ]
  },
  {
   "cell_type": "markdown",
   "metadata": {},
   "source": [
    "## Full Connection"
   ]
  },
  {
   "cell_type": "code",
   "execution_count": 9,
   "metadata": {},
   "outputs": [],
   "source": [
    "cnn.add(tf.keras.layers.Dense(units=128, activation=\"relu\"))"
   ]
  },
  {
   "cell_type": "markdown",
   "metadata": {},
   "source": [
    "## Output Layer"
   ]
  },
  {
   "cell_type": "code",
   "execution_count": 10,
   "metadata": {},
   "outputs": [],
   "source": [
    "cnn.add(tf.keras.layers.Dense(units=1, activation=\"sigmoid\"))"
   ]
  },
  {
   "cell_type": "markdown",
   "metadata": {},
   "source": [
    "## Compiling"
   ]
  },
  {
   "cell_type": "code",
   "execution_count": 11,
   "metadata": {},
   "outputs": [],
   "source": [
    "cnn.compile(optimizer=\"adam\", loss=\"binary_crossentropy\", metrics=[\"accuracy\"])"
   ]
  },
  {
   "cell_type": "markdown",
   "metadata": {},
   "source": [
    "## Training the CNN"
   ]
  },
  {
   "cell_type": "code",
   "execution_count": 12,
   "metadata": {},
   "outputs": [
    {
     "name": "stdout",
     "output_type": "stream",
     "text": [
      "Train for 250 steps, validate for 63 steps\n",
      "Epoch 1/25\n",
      "250/250 [==============================] - 145s 578ms/step - loss: 0.6659 - accuracy: 0.5964 - val_loss: 0.6057 - val_accuracy: 0.6800\n",
      "Epoch 2/25\n",
      "250/250 [==============================] - 94s 377ms/step - loss: 0.5969 - accuracy: 0.6806 - val_loss: 0.5782 - val_accuracy: 0.6895\n",
      "Epoch 3/25\n",
      "250/250 [==============================] - 98s 390ms/step - loss: 0.5642 - accuracy: 0.7051 - val_loss: 0.5373 - val_accuracy: 0.7315\n",
      "Epoch 4/25\n",
      "250/250 [==============================] - 105s 418ms/step - loss: 0.5329 - accuracy: 0.7278 - val_loss: 0.5381 - val_accuracy: 0.7335\n",
      "Epoch 5/25\n",
      "250/250 [==============================] - 66s 264ms/step - loss: 0.5064 - accuracy: 0.7481 - val_loss: 0.4903 - val_accuracy: 0.7670\n",
      "Epoch 6/25\n",
      "250/250 [==============================] - 50s 201ms/step - loss: 0.4803 - accuracy: 0.7666 - val_loss: 0.5141 - val_accuracy: 0.7530\n",
      "Epoch 7/25\n",
      "250/250 [==============================] - 50s 202ms/step - loss: 0.4657 - accuracy: 0.7726 - val_loss: 0.4943 - val_accuracy: 0.7560\n",
      "Epoch 8/25\n",
      "250/250 [==============================] - 53s 210ms/step - loss: 0.4379 - accuracy: 0.7983 - val_loss: 0.4751 - val_accuracy: 0.7840\n",
      "Epoch 9/25\n",
      "250/250 [==============================] - 51s 205ms/step - loss: 0.4248 - accuracy: 0.8010 - val_loss: 0.4413 - val_accuracy: 0.7975\n",
      "Epoch 10/25\n",
      "250/250 [==============================] - 50s 199ms/step - loss: 0.4172 - accuracy: 0.8089 - val_loss: 0.4500 - val_accuracy: 0.7895\n",
      "Epoch 11/25\n",
      "250/250 [==============================] - 52s 206ms/step - loss: 0.4050 - accuracy: 0.8126 - val_loss: 0.4772 - val_accuracy: 0.7885\n",
      "Epoch 12/25\n",
      "250/250 [==============================] - 51s 204ms/step - loss: 0.3821 - accuracy: 0.8250 - val_loss: 0.4506 - val_accuracy: 0.7980\n",
      "Epoch 13/25\n",
      "250/250 [==============================] - 55s 220ms/step - loss: 0.3736 - accuracy: 0.8319 - val_loss: 0.4527 - val_accuracy: 0.7955\n",
      "Epoch 14/25\n",
      "250/250 [==============================] - 52s 206ms/step - loss: 0.3620 - accuracy: 0.8367 - val_loss: 0.4344 - val_accuracy: 0.7970\n",
      "Epoch 15/25\n",
      "250/250 [==============================] - 60s 239ms/step - loss: 0.3511 - accuracy: 0.8394 - val_loss: 0.4661 - val_accuracy: 0.7950\n",
      "Epoch 16/25\n",
      "250/250 [==============================] - 53s 210ms/step - loss: 0.3343 - accuracy: 0.8510 - val_loss: 0.4677 - val_accuracy: 0.7850\n",
      "Epoch 17/25\n",
      "250/250 [==============================] - 55s 221ms/step - loss: 0.3224 - accuracy: 0.8577 - val_loss: 0.4494 - val_accuracy: 0.8060\n",
      "Epoch 18/25\n",
      "250/250 [==============================] - 50s 201ms/step - loss: 0.3183 - accuracy: 0.8585 - val_loss: 0.4618 - val_accuracy: 0.8010\n",
      "Epoch 19/25\n",
      "250/250 [==============================] - 48s 194ms/step - loss: 0.3092 - accuracy: 0.8656 - val_loss: 0.4768 - val_accuracy: 0.7975\n",
      "Epoch 20/25\n",
      "250/250 [==============================] - 50s 199ms/step - loss: 0.2912 - accuracy: 0.8698 - val_loss: 0.4685 - val_accuracy: 0.7935\n",
      "Epoch 21/25\n",
      "250/250 [==============================] - 55s 219ms/step - loss: 0.2742 - accuracy: 0.8796 - val_loss: 0.4695 - val_accuracy: 0.8120\n",
      "Epoch 22/25\n",
      "250/250 [==============================] - 53s 212ms/step - loss: 0.2610 - accuracy: 0.8874 - val_loss: 0.5235 - val_accuracy: 0.7865\n",
      "Epoch 23/25\n",
      "250/250 [==============================] - 53s 212ms/step - loss: 0.2583 - accuracy: 0.8880 - val_loss: 0.4769 - val_accuracy: 0.8080\n",
      "Epoch 24/25\n",
      "250/250 [==============================] - 52s 210ms/step - loss: 0.2478 - accuracy: 0.8969 - val_loss: 0.5087 - val_accuracy: 0.8035\n",
      "Epoch 25/25\n",
      "250/250 [==============================] - 54s 216ms/step - loss: 0.2404 - accuracy: 0.9010 - val_loss: 0.4691 - val_accuracy: 0.8135\n"
     ]
    },
    {
     "data": {
      "text/plain": [
       "<tensorflow.python.keras.callbacks.History at 0x1e6b9c19448>"
      ]
     },
     "execution_count": 12,
     "metadata": {},
     "output_type": "execute_result"
    }
   ],
   "source": [
    "cnn.fit(x = training_set, validation_data = test_set, epochs=25)"
   ]
  },
  {
   "cell_type": "code",
   "execution_count": 13,
   "metadata": {},
   "outputs": [
    {
     "data": {
      "text/plain": [
       "{'cats': 0, 'dogs': 1}"
      ]
     },
     "execution_count": 13,
     "metadata": {},
     "output_type": "execute_result"
    }
   ],
   "source": [
    "training_set.class_indices"
   ]
  },
  {
   "cell_type": "markdown",
   "metadata": {},
   "source": [
    "## Making a single Prediction"
   ]
  },
  {
   "cell_type": "code",
   "execution_count": 15,
   "metadata": {},
   "outputs": [
    {
     "name": "stdout",
     "output_type": "stream",
     "text": [
      "Cat\n"
     ]
    }
   ],
   "source": [
    "import numpy as np\n",
    "from keras.preprocessing import image\n",
    "test_image = image.load_img(\"dataset/single_prediction/cat_or_dog_2.jpg\", target_size=(64,64))\n",
    "test_image = image.img_to_array(test_image)\n",
    "test_image = np.expand_dims(test_image, axis=0)\n",
    "result = cnn.predict(test_image)\n",
    "\n",
    "if(result[0][0]==1):\n",
    "    print(\"Dog\")\n",
    "else:\n",
    "    print(\"Cat\")"
   ]
  },
  {
   "cell_type": "code",
   "execution_count": null,
   "metadata": {},
   "outputs": [],
   "source": []
  }
 ],
 "metadata": {
  "kernelspec": {
   "display_name": "Python 3",
   "language": "python",
   "name": "python3"
  },
  "language_info": {
   "codemirror_mode": {
    "name": "ipython",
    "version": 3
   },
   "file_extension": ".py",
   "mimetype": "text/x-python",
   "name": "python",
   "nbconvert_exporter": "python",
   "pygments_lexer": "ipython3",
   "version": "3.7.6"
  }
 },
 "nbformat": 4,
 "nbformat_minor": 4
}
