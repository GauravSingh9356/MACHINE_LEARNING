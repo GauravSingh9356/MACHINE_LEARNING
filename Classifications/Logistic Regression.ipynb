{
 "cells": [
  {
   "cell_type": "code",
   "execution_count": 1,
   "metadata": {},
   "outputs": [],
   "source": [
    "import numpy as np\n",
    "import pandas as pd\n",
    "import matplotlib.pyplot as plt"
   ]
  },
  {
   "cell_type": "code",
   "execution_count": 18,
   "metadata": {},
   "outputs": [
    {
     "data": {
      "text/plain": [
       "array([0, 0, 0, 0, 0, 0, 0, 1, 0, 0, 0, 0, 0, 0, 0, 0, 1, 1, 1, 1, 1, 1,\n",
       "       1, 1, 1, 1, 1, 1, 0, 0, 0, 1, 0, 0, 0, 0, 0, 0, 0, 0, 0, 0, 0, 0,\n",
       "       0, 0, 0, 0, 1, 0, 0, 0, 0, 0, 0, 0, 0, 0, 0, 0, 0, 0, 0, 1, 0, 0,\n",
       "       0, 0, 0, 0, 0, 0, 0, 0, 0, 1, 0, 0, 0, 0, 0, 0, 0, 0, 0, 1, 0, 0,\n",
       "       0, 0, 0, 0, 0, 0, 0, 0, 0, 1, 0, 0, 0, 0, 0, 1, 0, 0, 0, 0, 0, 0,\n",
       "       0, 0, 0, 0, 0, 0, 0, 0, 0, 0, 0, 0, 0, 0, 0, 0, 0, 0, 0, 0, 0, 0,\n",
       "       0, 0, 0, 0, 0, 1, 0, 0, 0, 0, 0, 0, 0, 0, 1, 0, 0, 0, 0, 0, 0, 0,\n",
       "       0, 0, 0, 0, 0, 1, 1, 0, 0, 0, 0, 0, 0, 0, 1, 0, 0, 0, 0, 0, 0, 0,\n",
       "       0, 0, 0, 0, 0, 0, 1, 0, 0, 0, 0, 0, 0, 0, 0, 0, 0, 0, 0, 0, 0, 0,\n",
       "       0, 0, 0, 0, 1, 0, 1, 0, 1, 0, 1, 0, 1, 1, 0, 0, 0, 1, 0, 0, 0, 1,\n",
       "       0, 1, 1, 1, 0, 0, 1, 1, 0, 1, 1, 0, 1, 1, 0, 1, 0, 0, 0, 1, 1, 0,\n",
       "       1, 1, 0, 1, 0, 1, 0, 1, 0, 0, 1, 1, 0, 1, 0, 0, 1, 1, 0, 1, 1, 0,\n",
       "       1, 1, 0, 0, 1, 0, 0, 1, 1, 1, 1, 1, 0, 1, 1, 1, 1, 0, 1, 1, 0, 1,\n",
       "       0, 1, 0, 1, 1, 1, 1, 0, 0, 0, 1, 1, 0, 1, 1, 1, 1, 1, 0, 0, 0, 1,\n",
       "       1, 0, 0, 1, 0, 1, 0, 1, 1, 0, 1, 0, 1, 1, 0, 1, 1, 0, 0, 0, 1, 1,\n",
       "       0, 1, 0, 0, 1, 0, 1, 0, 0, 1, 1, 0, 0, 1, 1, 0, 1, 1, 0, 0, 1, 0,\n",
       "       1, 0, 1, 1, 1, 0, 1, 0, 1, 1, 1, 0, 1, 1, 1, 1, 0, 1, 1, 1, 0, 1,\n",
       "       0, 1, 0, 0, 1, 1, 0, 1, 1, 1, 1, 1, 1, 0, 1, 1, 1, 1, 1, 1, 0, 1,\n",
       "       1, 1, 0, 1], dtype=int64)"
      ]
     },
     "execution_count": 18,
     "metadata": {},
     "output_type": "execute_result"
    }
   ],
   "source": [
    "dataset  = pd.read_csv(\"Social_Network_Ads.csv\")\n",
    "\n",
    "X = dataset.iloc[:,:-1].values\n",
    "y = dataset.iloc[:,-1].values\n",
    "y"
   ]
  },
  {
   "cell_type": "code",
   "execution_count": 13,
   "metadata": {},
   "outputs": [],
   "source": [
    "from sklearn.model_selection import train_test_split\n",
    "X_train,X_test,y_train,y_test = train_test_split(X,y,test_size=0.25)"
   ]
  },
  {
   "cell_type": "code",
   "execution_count": 14,
   "metadata": {},
   "outputs": [],
   "source": [
    "from sklearn.preprocessing import StandardScaler\n",
    "sc = StandardScaler()\n",
    "X_train = sc.fit_transform(X_train)\n",
    "X_test = sc.transform(X_test)"
   ]
  },
  {
   "cell_type": "code",
   "execution_count": 15,
   "metadata": {},
   "outputs": [
    {
     "name": "stdout",
     "output_type": "stream",
     "text": [
      "[[-0.76263275  0.57401558]\n",
      " [-0.00567717 -0.53079239]\n",
      " [-0.47877441 -1.19949195]\n",
      " [ 0.27818118 -0.70523575]\n",
      " [ 0.08894228 -0.79245743]\n",
      " [-0.10029662  0.22512885]\n",
      " [-1.0464911   0.42864611]\n",
      " [-0.76263275 -1.57745257]\n",
      " [-0.76263275  1.09734567]\n",
      " [-0.76263275  0.51586779]\n",
      " [-1.0464911   0.54494168]\n",
      " [-1.0464911  -1.51930478]\n",
      " [-0.57339386  0.4867939 ]\n",
      " [-0.8572522   0.39957221]\n",
      " [-0.66801331  0.13790717]\n",
      " [-0.28953551  0.22512885]\n",
      " [-1.89806614 -0.50171849]\n",
      " [-0.10029662 -0.21097956]\n",
      " [ 0.56203952  2.02771027]\n",
      " [-0.28953551 -0.24005345]\n",
      " [ 1.12975621 -0.9669008 ]\n",
      " [ 1.03513677 -1.19949195]\n",
      " [-0.47877441  1.27178903]\n",
      " [ 0.18356173 -0.35634903]\n",
      " [-0.28953551 -1.37393531]\n",
      " [ 0.27818118  0.07975938]\n",
      " [-0.28953551 -0.29820124]\n",
      " [ 0.84589787 -0.53079239]\n",
      " [-0.28953551  0.16698106]\n",
      " [-0.28953551  0.10883328]\n",
      " [ 0.65665897 -1.37393531]\n",
      " [-0.00567717 -0.24005345]\n",
      " [ 1.8867118   2.17307974]\n",
      " [-1.80344669 -1.4030092 ]\n",
      " [-0.28953551  0.80660673]\n",
      " [-1.61420779  0.54494168]\n",
      " [-0.95187165  0.57401558]\n",
      " [-1.51958834 -1.49023088]\n",
      " [-0.28953551 -0.55986628]\n",
      " [ 0.37280063  2.31844921]\n",
      " [ 1.03513677  0.54494168]\n",
      " [-0.10029662  0.28327664]\n",
      " [ 0.37280063  0.16698106]\n",
      " [-0.57339386  1.91141469]\n",
      " [-0.19491606 -0.26912734]\n",
      " [-1.14111055  0.31235053]\n",
      " [ 1.79209235 -1.25763973]\n",
      " [ 0.18356173 -0.64708796]\n",
      " [-1.33034944  0.42864611]\n",
      " [ 1.03513677  2.08585806]\n",
      " [-0.28953551 -0.87967911]\n",
      " [-0.76263275  1.35901071]\n",
      " [-1.14111055  0.34142443]\n",
      " [ 1.50823401  1.01012398]\n",
      " [ 0.37280063  0.31235053]\n",
      " [-0.47877441 -0.82153133]\n",
      " [-0.28953551  2.26030142]\n",
      " [-1.51958834  0.34142443]\n",
      " [-1.0464911   0.60308947]\n",
      " [-1.33034944  0.57401558]\n",
      " [-1.14111055  0.42864611]\n",
      " [ 0.37280063 -0.15283177]\n",
      " [ 2.0759507   0.39957221]\n",
      " [-1.89806614 -0.03653619]\n",
      " [-0.28953551  0.63216336]\n",
      " [-0.10029662 -0.35634903]\n",
      " [-1.33034944 -1.34486141]\n",
      " [ 1.31899511 -0.90875301]\n",
      " [-1.14111055 -1.54837867]\n",
      " [-1.80344669  0.45772   ]\n",
      " [-0.10029662  0.69031115]\n",
      " [ 0.37280063 -0.44357071]\n",
      " [-1.23573     0.28327664]\n",
      " [ 0.08894228  1.8823408 ]\n",
      " [ 2.0759507   0.9519762 ]\n",
      " [-1.0464911   0.77753283]\n",
      " [ 0.84589787 -1.34486141]\n",
      " [-0.38415496 -1.28671363]\n",
      " [-0.28953551 -0.4726446 ]\n",
      " [ 0.27818118 -0.29820124]\n",
      " [-0.66801331 -1.02504858]\n",
      " [-0.66801331  1.4171585 ]\n",
      " [-0.28953551  1.12641956]\n",
      " [ 1.98133125  0.19605496]\n",
      " [ 0.37280063  1.12641956]\n",
      " [-1.33034944 -0.32727513]\n",
      " [-0.19491606  1.62067575]\n",
      " [ 0.65665897 -1.37393531]\n",
      " [ 0.18356173 -0.35634903]\n",
      " [-1.42496889 -0.18190566]\n",
      " [ 0.08894228  1.53345407]\n",
      " [ 1.6974729  -0.26912734]\n",
      " [-1.23573     0.51586779]\n",
      " [ 0.84589787 -0.76338354]\n",
      " [-0.00567717  0.05068549]\n",
      " [ 0.27818118 -0.50171849]\n",
      " [ 0.18356173 -0.35634903]\n",
      " [ 1.98133125 -0.79245743]\n",
      " [ 0.65665897 -1.08319637]\n",
      " [ 1.03513677  0.4867939 ]]\n"
     ]
    }
   ],
   "source": [
    "print(X_test)"
   ]
  },
  {
   "cell_type": "code",
   "execution_count": 19,
   "metadata": {},
   "outputs": [
    {
     "name": "stderr",
     "output_type": "stream",
     "text": [
      "C:\\Users\\gs935\\anaconda3\\lib\\site-packages\\sklearn\\utils\\validation.py:760: DataConversionWarning: A column-vector y was passed when a 1d array was expected. Please change the shape of y to (n_samples, ), for example using ravel().\n",
      "  y = column_or_1d(y, warn=True)\n"
     ]
    },
    {
     "data": {
      "text/plain": [
       "LogisticRegression(C=1.0, class_weight=None, dual=False, fit_intercept=True,\n",
       "                   intercept_scaling=1, l1_ratio=None, max_iter=100,\n",
       "                   multi_class='auto', n_jobs=None, penalty='l2',\n",
       "                   random_state=None, solver='lbfgs', tol=0.0001, verbose=0,\n",
       "                   warm_start=False)"
      ]
     },
     "execution_count": 19,
     "metadata": {},
     "output_type": "execute_result"
    }
   ],
   "source": [
    "from sklearn.linear_model import LogisticRegression\n",
    "lg = LogisticRegression()\n",
    "lg.fit(X_train, y_train)"
   ]
  },
  {
   "cell_type": "code",
   "execution_count": 40,
   "metadata": {},
   "outputs": [
    {
     "name": "stdout",
     "output_type": "stream",
     "text": [
      "-0.762632754291014 0.5740155768711028\n"
     ]
    },
    {
     "data": {
      "text/plain": [
       "array([[0.89879265, 0.10120735]])"
      ]
     },
     "execution_count": 40,
     "metadata": {},
     "output_type": "execute_result"
    }
   ],
   "source": [
    "y_pred=lg.predict([[X_test[0][0], X_test[0][1]]])\n",
    "print(X_test[0][0],X_test[0][1])\n",
    "y_pred_prob=lg.predict_proba([[X_test[0][0], X_test[0][1]]])\n",
    "y_pred_prob"
   ]
  },
  {
   "cell_type": "code",
   "execution_count": 46,
   "metadata": {},
   "outputs": [],
   "source": [
    "y_pred_total = lg.predict(X_test)"
   ]
  },
  {
   "cell_type": "code",
   "execution_count": 48,
   "metadata": {},
   "outputs": [
    {
     "data": {
      "text/plain": [
       "array([[0, 0],\n",
       "       [0, 0],\n",
       "       [0, 0],\n",
       "       [0, 0],\n",
       "       [0, 0],\n",
       "       [0, 0],\n",
       "       [0, 0],\n",
       "       [0, 0],\n",
       "       [0, 1],\n",
       "       [0, 0],\n",
       "       [0, 0],\n",
       "       [0, 0],\n",
       "       [0, 0],\n",
       "       [0, 0],\n",
       "       [0, 0],\n",
       "       [0, 0],\n",
       "       [0, 0],\n",
       "       [0, 0],\n",
       "       [1, 1],\n",
       "       [0, 0],\n",
       "       [1, 1],\n",
       "       [1, 1],\n",
       "       [0, 0],\n",
       "       [0, 0],\n",
       "       [0, 0],\n",
       "       [0, 0],\n",
       "       [0, 0],\n",
       "       [1, 1],\n",
       "       [0, 0],\n",
       "       [0, 0],\n",
       "       [0, 1],\n",
       "       [0, 0],\n",
       "       [1, 1],\n",
       "       [0, 0],\n",
       "       [0, 1],\n",
       "       [0, 0],\n",
       "       [0, 0],\n",
       "       [0, 0],\n",
       "       [0, 0],\n",
       "       [1, 1],\n",
       "       [1, 1],\n",
       "       [0, 1],\n",
       "       [0, 0],\n",
       "       [0, 1],\n",
       "       [0, 0],\n",
       "       [0, 0],\n",
       "       [1, 1],\n",
       "       [0, 0],\n",
       "       [0, 0],\n",
       "       [1, 1],\n",
       "       [0, 0],\n",
       "       [0, 0],\n",
       "       [0, 0],\n",
       "       [1, 1],\n",
       "       [1, 1],\n",
       "       [0, 0],\n",
       "       [1, 1],\n",
       "       [0, 0],\n",
       "       [0, 0],\n",
       "       [0, 0],\n",
       "       [0, 0],\n",
       "       [0, 0],\n",
       "       [1, 1],\n",
       "       [0, 0],\n",
       "       [0, 1],\n",
       "       [0, 0],\n",
       "       [0, 0],\n",
       "       [1, 1],\n",
       "       [0, 0],\n",
       "       [0, 0],\n",
       "       [0, 1],\n",
       "       [0, 0],\n",
       "       [0, 0],\n",
       "       [1, 1],\n",
       "       [1, 1],\n",
       "       [0, 1],\n",
       "       [0, 1],\n",
       "       [0, 0],\n",
       "       [0, 0],\n",
       "       [0, 0],\n",
       "       [0, 0],\n",
       "       [0, 1],\n",
       "       [0, 0],\n",
       "       [1, 1],\n",
       "       [1, 1],\n",
       "       [0, 0],\n",
       "       [1, 1],\n",
       "       [0, 1],\n",
       "       [0, 0],\n",
       "       [0, 0],\n",
       "       [1, 1],\n",
       "       [1, 1],\n",
       "       [0, 0],\n",
       "       [1, 0],\n",
       "       [0, 0],\n",
       "       [0, 0],\n",
       "       [0, 0],\n",
       "       [1, 0],\n",
       "       [0, 1],\n",
       "       [1, 1]], dtype=int64)"
      ]
     },
     "execution_count": 48,
     "metadata": {},
     "output_type": "execute_result"
    }
   ],
   "source": [
    "np.concatenate((y_pred_total.reshape(len(y_pred_total),1), y_test.reshape(len(y_test),1)),axis=1)"
   ]
  },
  {
   "cell_type": "code",
   "execution_count": 29,
   "metadata": {},
   "outputs": [],
   "source": [
    "ans = y_pred==y_test"
   ]
  },
  {
   "cell_type": "code",
   "execution_count": 30,
   "metadata": {},
   "outputs": [
    {
     "data": {
      "text/plain": [
       "array([[ True,  True,  True, ..., False,  True, False],\n",
       "       [ True,  True,  True, ..., False,  True, False],\n",
       "       [ True,  True,  True, ..., False,  True, False],\n",
       "       ...,\n",
       "       [ True,  True,  True, ..., False,  True, False],\n",
       "       [False, False, False, ...,  True, False,  True],\n",
       "       [False, False, False, ...,  True, False,  True]])"
      ]
     },
     "execution_count": 30,
     "metadata": {},
     "output_type": "execute_result"
    }
   ],
   "source": [
    "ans"
   ]
  },
  {
   "cell_type": "code",
   "execution_count": 52,
   "metadata": {},
   "outputs": [
    {
     "name": "stdout",
     "output_type": "stream",
     "text": [
      "[[64  2]\n",
      " [12 22]]\n"
     ]
    },
    {
     "data": {
      "text/plain": [
       "0.86"
      ]
     },
     "execution_count": 52,
     "metadata": {},
     "output_type": "execute_result"
    }
   ],
   "source": [
    "from sklearn.metrics import confusion_matrix,accuracy_score\n",
    "cm = confusion_matrix(y_test,y_pred_total)\n",
    "print(cm)\n",
    "accuracy_score(y_test, y_pred_total)"
   ]
  },
  {
   "cell_type": "code",
   "execution_count": null,
   "metadata": {},
   "outputs": [],
   "source": []
  }
 ],
 "metadata": {
  "kernelspec": {
   "display_name": "Python 3",
   "language": "python",
   "name": "python3"
  },
  "language_info": {
   "codemirror_mode": {
    "name": "ipython",
    "version": 3
   },
   "file_extension": ".py",
   "mimetype": "text/x-python",
   "name": "python",
   "nbconvert_exporter": "python",
   "pygments_lexer": "ipython3",
   "version": "3.7.6"
  }
 },
 "nbformat": 4,
 "nbformat_minor": 4
}
